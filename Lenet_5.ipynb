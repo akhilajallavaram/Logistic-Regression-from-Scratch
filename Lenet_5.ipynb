{
  "nbformat": 4,
  "nbformat_minor": 0,
  "metadata": {
    "colab": {
      "provenance": [],
      "mount_file_id": "1t5EBnYDxMJfgYHFig7obj1Js8MDwa6rW",
      "authorship_tag": "ABX9TyPVx3zjAOYLvH9sJFnNQvX6",
      "include_colab_link": true
    },
    "kernelspec": {
      "name": "python3",
      "display_name": "Python 3"
    },
    "language_info": {
      "name": "python"
    }
  },
  "cells": [
    {
      "cell_type": "markdown",
      "metadata": {
        "id": "view-in-github",
        "colab_type": "text"
      },
      "source": [
        "<a href=\"https://colab.research.google.com/github/akhilajallavaram/Machine-Learning-Algorithms/blob/main/Lenet_5.ipynb\" target=\"_parent\"><img src=\"https://colab.research.google.com/assets/colab-badge.svg\" alt=\"Open In Colab\"/></a>"
      ]
    },
    {
      "cell_type": "code",
      "execution_count": 1,
      "metadata": {
        "id": "b4j9eFON5ROJ"
      },
      "outputs": [],
      "source": [
        "import tensorflow as tf\n",
        "from tensorflow import keras\n",
        "from keras.datasets import mnist\n",
        "from keras.layers import Dense,Flatten,Conv2D,AveragePooling2D\n",
        "from keras.models import Sequential"
      ]
    },
    {
      "cell_type": "code",
      "source": [
        "(X_train,y_train),(X_test,y_test) = mnist.load_data()"
      ],
      "metadata": {
        "colab": {
          "base_uri": "https://localhost:8080/"
        },
        "id": "N_gBXwTe55vj",
        "outputId": "8e5bfa8f-1ccb-4c43-adfe-a08e76823fea"
      },
      "execution_count": 2,
      "outputs": [
        {
          "output_type": "stream",
          "name": "stdout",
          "text": [
            "Downloading data from https://storage.googleapis.com/tensorflow/tf-keras-datasets/mnist.npz\n",
            "11490434/11490434 [==============================] - 0s 0us/step\n"
          ]
        }
      ]
    },
    {
      "cell_type": "code",
      "source": [
        "X_train.shape"
      ],
      "metadata": {
        "colab": {
          "base_uri": "https://localhost:8080/"
        },
        "id": "AxXB24-V6FO8",
        "outputId": "c205e14a-9a1e-4636-b043-f225be91d70f"
      },
      "execution_count": 3,
      "outputs": [
        {
          "output_type": "execute_result",
          "data": {
            "text/plain": [
              "(60000, 28, 28)"
            ]
          },
          "metadata": {},
          "execution_count": 3
        }
      ]
    },
    {
      "cell_type": "code",
      "source": [
        "#reshaping\n",
        "\n",
        "X_train = X_train.reshape(X_train.shape[0],28,28,1)\n",
        "X_test = X_test.reshape(X_test.shape[0],28,28,1)"
      ],
      "metadata": {
        "id": "ca_Qx8Uc6L-F"
      },
      "execution_count": 4,
      "outputs": []
    },
    {
      "cell_type": "code",
      "source": [
        "#the 1 in (28,28,1) represent the channel size \n",
        "X_train.shape\n"
      ],
      "metadata": {
        "colab": {
          "base_uri": "https://localhost:8080/"
        },
        "id": "C13uRqUJ6ld3",
        "outputId": "945a5f93-8002-4691-f223-39e0092f72f1"
      },
      "execution_count": 5,
      "outputs": [
        {
          "output_type": "execute_result",
          "data": {
            "text/plain": [
              "(60000, 28, 28, 1)"
            ]
          },
          "metadata": {},
          "execution_count": 5
        }
      ]
    },
    {
      "cell_type": "code",
      "source": [
        "#Normalization\n",
        "#using min-max scaler technique \n",
        "\n",
        "X_train = X_train/255\n",
        "X_test = X_test/255"
      ],
      "metadata": {
        "id": "AzL2oJZ56oHc"
      },
      "execution_count": null,
      "outputs": []
    },
    {
      "cell_type": "code",
      "source": [
        "y_train[0]"
      ],
      "metadata": {
        "colab": {
          "base_uri": "https://localhost:8080/"
        },
        "id": "00HEfxex7MDR",
        "outputId": "e3fd4ad5-3768-472d-f585-6caf34ebd647"
      },
      "execution_count": null,
      "outputs": [
        {
          "output_type": "execute_result",
          "data": {
            "text/plain": [
              "5"
            ]
          },
          "metadata": {},
          "execution_count": 9
        }
      ]
    },
    {
      "cell_type": "code",
      "source": [
        "#one-hot encoding\n",
        "y_train = keras.utils.to_categorical(y_train,10)\n",
        "y_test = keras.utils.to_categorical(y_test,10)"
      ],
      "metadata": {
        "id": "Cd0RLOR47VSd"
      },
      "execution_count": 6,
      "outputs": []
    },
    {
      "cell_type": "code",
      "source": [
        "y_train[0]"
      ],
      "metadata": {
        "colab": {
          "base_uri": "https://localhost:8080/"
        },
        "id": "rqhQtZtF72t7",
        "outputId": "4ef09665-4c8a-4679-bcaa-559b2728fb51"
      },
      "execution_count": 7,
      "outputs": [
        {
          "output_type": "execute_result",
          "data": {
            "text/plain": [
              "array([0., 0., 0., 0., 0., 1., 0., 0., 0., 0.], dtype=float32)"
            ]
          },
          "metadata": {},
          "execution_count": 7
        }
      ]
    },
    {
      "cell_type": "code",
      "source": [
        "model = Sequential()\n",
        "\n",
        "model.add(Conv2D(6, kernel_size = (5,5), padding = 'valid', activation ='tanh',input_shape = (28,28,1)))\n",
        "model.add(AveragePooling2D(pool_size=(2,2),strides = 2,padding = 'valid'))\n",
        "\n",
        "model.add(Conv2D(16, kernel_size = (5,5), padding = 'valid', activation ='tanh',input_shape = (28,28,1)))\n",
        "model.add(AveragePooling2D(pool_size=(2,2),strides = 2,padding = 'valid'))\n",
        "\n",
        "model.add(Flatten())\n",
        "model.add(Dense(120, activation='tanh'))\n",
        "model.add(Dense(84, activation='tanh'))\n",
        "model.add(Dense(10, activation='softmax'))\n",
        "\n",
        "model.summary()"
      ],
      "metadata": {
        "colab": {
          "base_uri": "https://localhost:8080/"
        },
        "id": "I4YOHnnE77IM",
        "outputId": "6a76f46f-e142-4e1f-820b-f002a09f75c3"
      },
      "execution_count": 8,
      "outputs": [
        {
          "output_type": "stream",
          "name": "stdout",
          "text": [
            "Model: \"sequential\"\n",
            "_________________________________________________________________\n",
            " Layer (type)                Output Shape              Param #   \n",
            "=================================================================\n",
            " conv2d (Conv2D)             (None, 24, 24, 6)         156       \n",
            "                                                                 \n",
            " average_pooling2d (AverageP  (None, 12, 12, 6)        0         \n",
            " ooling2D)                                                       \n",
            "                                                                 \n",
            " conv2d_1 (Conv2D)           (None, 8, 8, 16)          2416      \n",
            "                                                                 \n",
            " average_pooling2d_1 (Averag  (None, 4, 4, 16)         0         \n",
            " ePooling2D)                                                     \n",
            "                                                                 \n",
            " flatten (Flatten)           (None, 256)               0         \n",
            "                                                                 \n",
            " dense (Dense)               (None, 120)               30840     \n",
            "                                                                 \n",
            " dense_1 (Dense)             (None, 84)                10164     \n",
            "                                                                 \n",
            " dense_2 (Dense)             (None, 10)                850       \n",
            "                                                                 \n",
            "=================================================================\n",
            "Total params: 44,426\n",
            "Trainable params: 44,426\n",
            "Non-trainable params: 0\n",
            "_________________________________________________________________\n"
          ]
        }
      ]
    },
    {
      "cell_type": "code",
      "source": [
        "model.compile(loss = keras.metrics.categorical_crossentropy,optimizer= keras.optimizers.Adam(),metrics= ['accuracy'] )"
      ],
      "metadata": {
        "id": "fbGhSKVL9plz"
      },
      "execution_count": 9,
      "outputs": []
    },
    {
      "cell_type": "code",
      "source": [
        "model.fit(X_train,y_train,batch_size=128,epochs=10,verbose=1,validation_data = (X_test,y_test))"
      ],
      "metadata": {
        "colab": {
          "base_uri": "https://localhost:8080/"
        },
        "id": "zOvn27RL-0lS",
        "outputId": "95730ec9-6099-4934-9247-c323bfadaf2e"
      },
      "execution_count": 10,
      "outputs": [
        {
          "output_type": "stream",
          "name": "stdout",
          "text": [
            "Epoch 1/10\n",
            "469/469 [==============================] - 31s 63ms/step - loss: 0.2219 - accuracy: 0.9385 - val_loss: 0.0784 - val_accuracy: 0.9757\n",
            "Epoch 2/10\n",
            "469/469 [==============================] - 31s 67ms/step - loss: 0.0741 - accuracy: 0.9775 - val_loss: 0.0529 - val_accuracy: 0.9827\n",
            "Epoch 3/10\n",
            "469/469 [==============================] - 31s 66ms/step - loss: 0.0538 - accuracy: 0.9833 - val_loss: 0.0448 - val_accuracy: 0.9859\n",
            "Epoch 4/10\n",
            "469/469 [==============================] - 31s 66ms/step - loss: 0.0433 - accuracy: 0.9868 - val_loss: 0.0428 - val_accuracy: 0.9866\n",
            "Epoch 5/10\n",
            "469/469 [==============================] - 31s 65ms/step - loss: 0.0359 - accuracy: 0.9891 - val_loss: 0.0328 - val_accuracy: 0.9899\n",
            "Epoch 6/10\n",
            "469/469 [==============================] - 30s 65ms/step - loss: 0.0312 - accuracy: 0.9902 - val_loss: 0.0368 - val_accuracy: 0.9891\n",
            "Epoch 7/10\n",
            "469/469 [==============================] - 30s 65ms/step - loss: 0.0269 - accuracy: 0.9914 - val_loss: 0.0361 - val_accuracy: 0.9879\n",
            "Epoch 8/10\n",
            "469/469 [==============================] - 30s 65ms/step - loss: 0.0235 - accuracy: 0.9928 - val_loss: 0.0322 - val_accuracy: 0.9890\n",
            "Epoch 9/10\n",
            "469/469 [==============================] - 30s 63ms/step - loss: 0.0197 - accuracy: 0.9940 - val_loss: 0.0332 - val_accuracy: 0.9902\n",
            "Epoch 10/10\n",
            "469/469 [==============================] - 30s 63ms/step - loss: 0.0166 - accuracy: 0.9949 - val_loss: 0.0365 - val_accuracy: 0.9889\n"
          ]
        },
        {
          "output_type": "execute_result",
          "data": {
            "text/plain": [
              "<keras.callbacks.History at 0x7fd5541baa10>"
            ]
          },
          "metadata": {},
          "execution_count": 10
        }
      ]
    },
    {
      "cell_type": "code",
      "source": [
        "score = model.evaluate(X_test,y_test)\n",
        "\n",
        "print('test loss:',score[0])\n",
        "print('test accuracy:',score[1])"
      ],
      "metadata": {
        "colab": {
          "base_uri": "https://localhost:8080/"
        },
        "id": "UcImsXRg_gYI",
        "outputId": "c0da5d0e-ad88-47b0-9cee-28dbaa88cb7e"
      },
      "execution_count": 12,
      "outputs": [
        {
          "output_type": "stream",
          "name": "stdout",
          "text": [
            "313/313 [==============================] - 3s 9ms/step - loss: 0.0365 - accuracy: 0.9889\n",
            "test loss: 0.03646741807460785\n",
            "test accuracy: 0.9889000058174133\n"
          ]
        }
      ]
    },
    {
      "cell_type": "code",
      "source": [
        "predictions = model.predict(X_test)"
      ],
      "metadata": {
        "colab": {
          "base_uri": "https://localhost:8080/"
        },
        "id": "68PplZV4Ade0",
        "outputId": "b96be000-fc25-42f6-923d-f202e658b8d8"
      },
      "execution_count": 13,
      "outputs": [
        {
          "output_type": "stream",
          "name": "stdout",
          "text": [
            "313/313 [==============================] - 3s 8ms/step\n"
          ]
        }
      ]
    },
    {
      "cell_type": "code",
      "source": [
        "import numpy as np\n",
        "pred_img = np.argmax(predictions[4])\n",
        "pred_img"
      ],
      "metadata": {
        "colab": {
          "base_uri": "https://localhost:8080/"
        },
        "id": "TYsOuGwHBLeO",
        "outputId": "aebaf23a-d7c6-4672-c144-fb2c887377a2"
      },
      "execution_count": 14,
      "outputs": [
        {
          "output_type": "execute_result",
          "data": {
            "text/plain": [
              "4"
            ]
          },
          "metadata": {},
          "execution_count": 14
        }
      ]
    }
  ]
}